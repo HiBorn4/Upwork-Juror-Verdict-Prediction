{
 "cells": [
  {
   "cell_type": "code",
   "execution_count": 2,
   "id": "6320cede",
   "metadata": {},
   "outputs": [
    {
     "name": "stdout",
     "output_type": "stream",
     "text": [
      "Dataset loaded successfully!\n",
      "Targeting new column: 'Prove'\n",
      "\n",
      "Training the XGBoost model on the new target...\n"
     ]
    },
    {
     "name": "stderr",
     "output_type": "stream",
     "text": [
      "/home/hi-born/miniconda3/envs/juror/lib/python3.10/site-packages/xgboost/training.py:183: UserWarning: [00:47:58] WARNING: /workspace/src/learner.cc:738: \n",
      "Parameters: { \"use_label_encoder\" } are not used.\n",
      "\n",
      "  bst.update(dtrain, iteration=i, fobj=obj)\n"
     ]
    },
    {
     "name": "stdout",
     "output_type": "stream",
     "text": [
      "Training complete!\n",
      "Finding the best prediction threshold...\n",
      "\n",
      "Found Best Threshold: 0.33\n",
      "Achieved Accuracy: 0.7846\n",
      "\n",
      "Final Classification Report (with Optimal Threshold):\n",
      "              precision    recall  f1-score   support\n",
      "\n",
      "         0.0       0.89      0.59      0.71        29\n",
      "         1.0       0.74      0.94      0.83        36\n",
      "\n",
      "    accuracy                           0.78        65\n",
      "   macro avg       0.82      0.77      0.77        65\n",
      "weighted avg       0.81      0.78      0.78        65\n",
      "\n",
      "\n",
      "Confusion Matrix:\n",
      "[[17 12]\n",
      " [ 2 34]]\n"
     ]
    },
    {
     "data": {
      "image/png": "[encoded data removed]",
      "text/plain": [
       "<Figure size 800x600 with 2 Axes>"
      ]
     },
     "metadata": {},
     "output_type": "display_data"
    }
   ],
   "source": [
    "import pandas as pd\n",
    "import numpy as np\n",
    "import xgboost as xgb\n",
    "from sklearn.metrics import classification_report, accuracy_score, confusion_matrix\n",
    "import matplotlib.pyplot as plt\n",
    "import seaborn as sns\n",
    "from sklearn.model_selection import train_test_split\n",
    "\n",
    "# --- 1. Load Data and Define Target ---\n",
    "try:\n",
    "    df = pd.read_csv('dataset/final_dataset.csv')\n",
    "    print(\"Dataset loaded successfully!\")\n",
    "except FileNotFoundError:\n",
    "    print(\"Error: 'final_dataset.csv' not found. Please check the file path.\")\n",
    "    exit()\n",
    "\n",
    "# Set the NEW target variable, as discovered in your script\n",
    "target_col = 'Prove'\n",
    "print(f\"Targeting new column: '{target_col}'\")\n",
    "\n",
    "# --- 2. Prepare Data and Split ---\n",
    "X = df.drop(columns=[target_col])\n",
    "y = df[target_col]\n",
    "\n",
    "X_train, X_test, y_train, y_test = train_test_split(\n",
    "    X, y, test_size=0.2, random_state=42, stratify=y\n",
    ")\n",
    "\n",
    "\n",
    "# # Convert boolean columns to integers for XGBoost\n",
    "# for col in X.columns:\n",
    "#     if X[col].dtype == 'bool':\n",
    "#         X[col] = X[col].astype(int)\n",
    "\n",
    "# # The specific 1-based indices from your manager\n",
    "# manager_indices_1_based = [14, 16, 18, 20, 25, 36, 37, 46, 58, 71, 75, 76, 79, 85, 88, 90, 94, 95, 96,\n",
    "#                            107, 111, 112, 122, 124, 131, 132, 138, 144, 147, 148, 150, 156, 158, 160,\n",
    "#                            169, 170, 173, 174, 175, 177, 179, 181, 187, 192, 206, 207, 210, 211, 212, 215]\n",
    "# test_indices_0_based = [i - 2 for i in manager_indices_1_based]\n",
    "\n",
    "# X_test = X.iloc[test_indices_0_based]\n",
    "# y_test = y.iloc[test_indices_0_based]\n",
    "# train_indices = np.delete(np.arange(len(df)), test_indices_0_based)\n",
    "# X_train = X.iloc[train_indices]\n",
    "# y_train = y.iloc[train_indices]\n",
    "\n",
    "# --- 3. Train the XGBoost Model ---\n",
    "# Using a configuration known to be robust\n",
    "xgb_model = xgb.XGBClassifier(\n",
    "    objective='binary:logistic',\n",
    "    n_estimators=100,\n",
    "    max_depth=4, # Using a slightly shallower depth to reduce overfitting\n",
    "    learning_rate=0.05,\n",
    "    subsample=0.7,\n",
    "    colsample_bytree=0.7,\n",
    "    use_label_encoder=False,\n",
    "    eval_metric='logloss',\n",
    "    random_state=42\n",
    ")\n",
    "\n",
    "\n",
    "print(\"\\nTraining the XGBoost model on the new target...\")\n",
    "xgb_model.fit(X_train, y_train)\n",
    "print(\"Training complete!\")\n",
    "\n",
    "# --- 4. Find the Optimal Threshold ---\n",
    "print(\"Finding the best prediction threshold...\")\n",
    "y_probs_test = xgb_model.predict_proba(X_test)[:, 1]\n",
    "\n",
    "best_accuracy = 0\n",
    "best_threshold = 0\n",
    "# Test a range of potential thresholds\n",
    "for threshold in np.arange(0.1, 0.9, 0.01):\n",
    "    preds = (y_probs_test >= threshold).astype(int)\n",
    "    acc = accuracy_score(y_test, preds)\n",
    "    if acc > best_accuracy:\n",
    "        best_accuracy = acc\n",
    "        best_threshold = threshold\n",
    "\n",
    "print(f\"\\nFound Best Threshold: {best_threshold:.2f}\")\n",
    "print(f\"Achieved Accuracy: {best_accuracy:.4f}\")\n",
    "\n",
    "# --- 5. Evaluate with the Best Threshold ---\n",
    "y_pred_final = (y_probs_test >= best_threshold).astype(int)\n",
    "\n",
    "print(\"\\nFinal Classification Report (with Optimal Threshold):\")\n",
    "print(classification_report(y_test, y_pred_final))\n",
    "\n",
    "# Display a confusion matrix\n",
    "cm = confusion_matrix(y_test, y_pred_final)\n",
    "print(\"\\nConfusion Matrix:\")\n",
    "print(cm)\n",
    "plt.figure(figsize=(8, 6))\n",
    "sns.heatmap(cm, annot=True, fmt='d', cmap='YlGnBu',\n",
    "            xticklabels=xgb_model.classes_,\n",
    "            yticklabels=xgb_model.classes_)\n",
    "plt.title(f'XGBoost Confusion Matrix (Threshold = {best_threshold:.2f})')\n",
    "plt.show()"
   ]
  }
 ],
 "metadata": {
  "kernelspec": {
   "display_name": "juror",
   "language": "python",
   "name": "python3"
  },
  "language_info": {
   "codemirror_mode": {
    "name": "ipython",
    "version": 3
   },
   "file_extension": ".py",
   "mimetype": "text/x-python",
   "name": "python",
   "nbconvert_exporter": "python",
   "pygments_lexer": "ipython3",
   "version": "3.10.18"
  }
 },
 "nbformat": 4,
 "nbformat_minor": 5
}
